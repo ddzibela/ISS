{
  "cells": [
    {
      "cell_type": "markdown",
      "metadata": {},
      "source": []
    },
    {
      "cell_type": "code",
      "execution_count": 66,
      "metadata": {},
      "outputs": [],
      "source": [
        "import numpy as np\n",
        "import matplotlib as plt\n",
        "from scipy import io, fft, eye\n",
        "from scipy.io import wavfile"
      ]
    },
    {
      "cell_type": "markdown",
      "metadata": {},
      "source": [
        "## Input preprocessing"
      ]
    },
    {
      "cell_type": "code",
      "execution_count": 75,
      "metadata": {},
      "outputs": [
        {
          "name": "stdout",
          "output_type": "stream",
          "text": [
            "Sampling rate: 16000Hz\n",
            "Audio length:\n",
            "               53556 samples\n",
            "               3.34725 seconds\n",
            "Max value:     2635\n",
            "Min value:     -1516\n"
          ]
        }
      ],
      "source": [
        "samplingRate, rawData = io.wavfile.read('../audio/xdzibe00.wav')\n",
        "print('Sampling rate: ' + str(samplingRate) + 'Hz')\n",
        "print('Audio length:')\n",
        "print('               ' + str(rawData.size) + ' samples')\n",
        "print('               ' + str(rawData.size / samplingRate) + ' seconds')\n",
        "print('Max value:     ' + str(rawData.max()))\n",
        "print('Min value:     ' + str(rawData.min()))"
      ]
    },
    {
      "cell_type": "code",
      "execution_count": 68,
      "metadata": {},
      "outputs": [],
      "source": [
        "#normalize the data\n",
        "normData = rawData / np.linalg.norm(rawData)\n",
        "#slice into 1024 sample long frames, with 512 sample overlap\n",
        "slicedData = np.zeros(shape=(int(normData.size / 512),1024))\n",
        "for i in range(0, int(normData.size / 512) - 1): #the last frame would be incomplete so we ignore it\n",
        "    slicedData[i] = normData[i * 512:(i * 512) + 1024]\n"
      ]
    },
    {
      "cell_type": "markdown",
      "metadata": {},
      "source": [
        "## Fourier transform\n",
        "In this section we Implement our own version of DFT and compare it with a library implementation."
      ]
    },
    {
      "cell_type": "code",
      "execution_count": 69,
      "metadata": {},
      "outputs": [],
      "source": [
        "def customDFT(signal):\n",
        "    dftMatrix = fft(eye(1024))\n",
        "    return dftMatrix * signal"
      ]
    },
    {
      "cell_type": "code",
      "execution_count": 70,
      "metadata": {},
      "outputs": [],
      "source": [
        "#now we can feed the function with our signal"
      ]
    },
    {
      "cell_type": "code",
      "execution_count": 82,
      "metadata": {},
      "outputs": [],
      "source": [
        "#or just use a library implementation\n",
        "dftLibrary = np.zeros(shape=(slicedData.shape))\n",
        "for i in range(0, dftLibrary.shape[0]):\n",
        "    dftLibrary[i] = np.abs(fft.fft(slicedData[i]))"
      ]
    },
    {
      "cell_type": "markdown",
      "metadata": {},
      "source": [
        "## Spectrum analysis"
      ]
    },
    {
      "cell_type": "code",
      "execution_count": null,
      "metadata": {},
      "outputs": [],
      "source": []
    },
    {
      "cell_type": "markdown",
      "metadata": {},
      "source": [
        "## Filter"
      ]
    }
  ],
  "metadata": {
    "colab": {
      "collapsed_sections": [],
      "name": "Untitled0.ipynb",
      "provenance": []
    },
    "kernelspec": {
      "display_name": "Python 3",
      "name": "python3"
    },
    "language_info": {
      "codemirror_mode": {
        "name": "ipython",
        "version": 3
      },
      "file_extension": ".py",
      "mimetype": "text/x-python",
      "name": "python",
      "nbconvert_exporter": "python",
      "pygments_lexer": "ipython3",
      "version": "3.8.0"
    }
  },
  "nbformat": 4,
  "nbformat_minor": 0
}
